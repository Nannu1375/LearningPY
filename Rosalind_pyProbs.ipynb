{
 "cells": [
  {
   "cell_type": "markdown",
   "metadata": {},
   "source": [
    "RP1: The below command is to find the sum of squares of 2 numbers"
   ]
  },
  {
   "cell_type": "code",
   "execution_count": null,
   "metadata": {},
   "outputs": [],
   "source": [
    "import math\n",
    "#asking for inputs\n",
    "file_path = \"/media/nannu/Briefcase/Python_wrkspc/rosalind/rosalind_ini2.txt\"\n",
    "\n",
    "with open(file_path, 'r') as file:\n",
    "    s1,s2 = map(int, file.readline().strip().split())\n",
    "\n",
    "#maths\n",
    "sol = (s1**2) + (s2**2)\n",
    "print(sol)"
   ]
  },
  {
   "cell_type": "markdown",
   "metadata": {},
   "source": [
    "RP2: Print subsets of a string"
   ]
  },
  {
   "cell_type": "code",
   "execution_count": null,
   "metadata": {},
   "outputs": [],
   "source": [
    "#initialising variables\n",
    "file_path = \"/media/nannu/Briefcase/Python_wrkspc/rosalind/rosalind_ini3.txt\"\n",
    "\n",
    "with open(file_path, 'r') as file:\n",
    "    s = file.readline().strip()\n",
    "    a,b,c,d = map(int, file.readline().strip().split())\n",
    "\n",
    "#storing subsets of string into variables\n",
    "subs1 = s[a:(b+1)]\n",
    "subs2 = s[c:(d+1)]\n",
    "\n",
    "print(subs1 + \" \" + subs2)\n"
   ]
  },
  {
   "cell_type": "markdown",
   "metadata": {},
   "source": [
    "RP3: Print the sum of odd numbers"
   ]
  },
  {
   "cell_type": "code",
   "execution_count": null,
   "metadata": {},
   "outputs": [],
   "source": [
    "file_path = \"/media/nannu/Briefcase/Python_wrkspc/rosalind/rosalind_ini4.txt\"\n",
    "\n",
    "with open(file_path, 'r') as file:\n",
    "    a,b = map(int, file.readline().strip().split())\n",
    "\n",
    "\n",
    "sum = 0\n",
    "while a <= b:\n",
    "    if a % 2 != 0:\n",
    "        sum += a\n",
    "    a += 1\n",
    "\n",
    "print(sum)"
   ]
  },
  {
   "cell_type": "markdown",
   "metadata": {},
   "source": [
    "RP4: The below command is to write the even numbered lines from a text file to a new one."
   ]
  },
  {
   "cell_type": "code",
   "execution_count": 52,
   "metadata": {},
   "outputs": [],
   "source": [
    "file_path = \"/media/nannu/Briefcase/Python_wrkspc/rosalind/rosalind_ini5.txt\"\n",
    "\n",
    "#open the text file in read mode\n",
    "with open(file_path, 'r') as rf:\n",
    "    with open('even_lines.txt', 'w') as wf:\n",
    "\n",
    "        #iterate through the lines and keep track of line numbers using enumerate\n",
    "        for line_number, line in enumerate(rf, start=1):\n",
    "            \n",
    "            #check if the line number is even\n",
    "            if line_number % 2 == 0:\n",
    "                wf.write(line)"
   ]
  },
  {
   "cell_type": "markdown",
   "metadata": {},
   "source": [
    "RP5: print number of times a word has occured along with the word in a dictionary in a string (needs attention)"
   ]
  },
  {
   "cell_type": "code",
   "execution_count": null,
   "metadata": {},
   "outputs": [],
   "source": [
    "file_path = \"/media/nannu/Briefcase/Python_wrkspc/rosalind/rosalind_ini6.txt\"\n",
    "\n",
    "with open(file_path, 'r') as file:\n",
    "    s = file.readline().strip().split()\n",
    "\n",
    "words = {}\n",
    "\n",
    "for word in s:\n",
    "    if word in words:\n",
    "        words[word] += 1\n",
    "    else:\n",
    "        words[word] = 1\n",
    "\n",
    "for key, value in words.items():\n",
    "    print(f\"{key} {value}\")\n"
   ]
  }
 ],
 "metadata": {
  "kernelspec": {
   "display_name": "python",
   "language": "python",
   "name": "python3"
  },
  "language_info": {
   "codemirror_mode": {
    "name": "ipython",
    "version": 3
   },
   "file_extension": ".py",
   "mimetype": "text/x-python",
   "name": "python",
   "nbconvert_exporter": "python",
   "pygments_lexer": "ipython3",
   "version": "3.12.7"
  }
 },
 "nbformat": 4,
 "nbformat_minor": 2
}
