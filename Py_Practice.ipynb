{
 "cells": [
  {
   "cell_type": "markdown",
   "metadata": {},
   "source": [
    "Exercise 1: Calculate the multiplication and sum of two numbers\n",
    "\n",
    "Given two integer numbers, write a Python code to return their product only if the product is equal to or lower than 1000. Otherwise, return their sum."
   ]
  },
  {
   "cell_type": "code",
   "execution_count": null,
   "metadata": {},
   "outputs": [],
   "source": [
    "num1 = int(input(\"Enter first number: \"))\n",
    "num2 = int(input(\"Enter second number: \"))\n",
    "result = 0\n",
    "product = num1 * num2\n",
    "\n",
    "if  product <= 1000:\n",
    "    result = product\n",
    "    print(f\"The result is {result}\")\n",
    "else:\n",
    "    result = num1 + num2\n",
    "    print(f\"The result is {result}\")"
   ]
  },
  {
   "cell_type": "markdown",
   "metadata": {},
   "source": [
    "Exercise 2: Print the Sum of a Current Number and a Previous number\n",
    "\n",
    "Write a Python code to iterate the first 10 numbers, and in each iteration, print the sum of the current and previous number."
   ]
  },
  {
   "cell_type": "code",
   "execution_count": null,
   "metadata": {},
   "outputs": [],
   "source": [
    "n = int(input(\"Enter the range size: \"))\n",
    "print(f\"Printing current and previous number sum in a range({n})\")\n",
    "\n",
    "for cNum in range(n):\n",
    "    pNum = 0\n",
    "    if cNum == 0:\n",
    "        cNum = pNum\n",
    "        print(f\"Current Number {cNum} Previous Number {pNum} Sum: 0\")\n",
    "    else:\n",
    "        pNum = cNum - 1\n",
    "        sum = cNum + pNum\n",
    "        print(f\"Current Number {cNum} Previous Number {pNum} Sum: {sum}\")"
   ]
  },
  {
   "cell_type": "markdown",
   "metadata": {},
   "source": [
    "Exercise 3: Print characters present at an even index number\n",
    "\n",
    "Write a Python code to accept a string from the user and display characters present at an even index number.\n",
    "\n",
    "For example, str = \"PYnative\". so your code should display ‘P’, ‘n’, ‘t’, ‘v’."
   ]
  },
  {
   "cell_type": "code",
   "execution_count": null,
   "metadata": {},
   "outputs": [],
   "source": [
    "your_str = str(input(\"Enter your text: \"))\n",
    "print(f\"Original String is {your_str}\\nPrinting only even index chars\")\n",
    "\n",
    "str_list = list(your_str)\n",
    "\n",
    "even_letters = str_list[::2]\n",
    "\n",
    "for letter in even_letters:\n",
    "    print(letter)\n"
   ]
  },
  {
   "cell_type": "markdown",
   "metadata": {},
   "source": [
    "Exercise 4: Remove first n characters from a string\n",
    "\n",
    "Write a Python code to remove characters from a string from 0 to n and return a new string.\n",
    "\n",
    "For Example:\n",
    "\n",
    "remove_chars(\"PYnative\", 4) so output must be tive. Here, you need to remove the first four characters from a string.\n",
    "remove_chars(\"PYnative\", 2) so output must be native. Here, you need to remove the first two characters from a string.\n",
    "\n",
    "Note: n must be less than the length of the string."
   ]
  },
  {
   "cell_type": "code",
   "execution_count": null,
   "metadata": {},
   "outputs": [],
   "source": [
    "def remove_chars(string, charNum):\n",
    "\n",
    "    if len(string) < charNum:\n",
    "        return \"n must be less than the length of the string\"\n",
    "    \n",
    "    list_string = list(string)\n",
    "    result = list_string[charNum:]\n",
    "\n",
    "    return result\n",
    "\n",
    "\n",
    "text = str(input(\"Enter your string: \"))\n",
    "chars_remove = int(input(\"Enter the number of letters to remove: \"))\n",
    "\n",
    "print(remove_chars(text, chars_remove))"
   ]
  },
  {
   "cell_type": "markdown",
   "metadata": {},
   "source": [
    "Exercise 5: Check if the first and last numbers of a list are the same\n",
    "\n",
    "Write a code to return True if the list’s first and last numbers are the same. If the numbers are different, return False."
   ]
  },
  {
   "cell_type": "code",
   "execution_count": null,
   "metadata": {},
   "outputs": [],
   "source": [
    "numList = input(\"Enter your numbers, separated by comma\").split(\", \")\n",
    "last_elemnt = len(numList) - 1\n",
    "\n",
    "if numList[last_elemnt] == numList[0]:\n",
    "    print(\"Result is True\")\n",
    "else:\n",
    "    print(\"Result is False\")"
   ]
  },
  {
   "cell_type": "markdown",
   "metadata": {},
   "source": [
    "Exercise 6: Display numbers divisible by 5\n",
    "\n",
    "Write a Python code to display numbers from a list divisible by 5"
   ]
  },
  {
   "cell_type": "code",
   "execution_count": null,
   "metadata": {},
   "outputs": [],
   "source": [
    "numList = input(\"Enter the list of numbers, separated by space: \").split(\", \")\n",
    "intList = list(map(int, numList))\n",
    "\n",
    "divBy = int(input(\"Enter the number to be divisible with: \"))\n",
    "\n",
    "print(f\"Given list is {intList}\")\n",
    "print(f\"Divisible by {divBy}\")\n",
    "\n",
    "for n in intList:\n",
    "    if n % divBy == 0:\n",
    "        print(n)"
   ]
  },
  {
   "cell_type": "markdown",
   "metadata": {},
   "source": [
    "Exercise 7: Find the number of occurrences of a substring in a string\n",
    "\n",
    "Write a Python code to find how often the substring “Emma” appears in the given string."
   ]
  },
  {
   "cell_type": "code",
   "execution_count": null,
   "metadata": {},
   "outputs": [],
   "source": [
    "str_x = str(input(\"Enter the sentence: \"))\n",
    "xList = str_x.split(\" \")\n",
    "\n",
    "xDict = {}\n",
    "for word in xList:\n",
    "    if word in xDict:\n",
    "        xDict[word] += 1\n",
    "    else:\n",
    "        xDict[word] = 1\n",
    "\n",
    "max_key = max(xDict, key=xDict.get)\n",
    "max_value = xDict[max_key]\n",
    "\n",
    "print(f\"Your string is: {str_x}\\n\")\n",
    "print(f\"{max_key} appeared {max_value} times!\")\n"
   ]
  },
  {
   "cell_type": "markdown",
   "metadata": {},
   "source": [
    "Exercise 8: Print the following pattern\n",
    "\n",
    "1 \n",
    "2 2 \n",
    "3 3 3 \n",
    "4 4 4 4 \n",
    "5 5 5 5 5"
   ]
  },
  {
   "cell_type": "code",
   "execution_count": 11,
   "metadata": {},
   "outputs": [
    {
     "name": "stdout",
     "output_type": "stream",
     "text": [
      "1    \n",
      "2 2   \n",
      "3 3 3  \n",
      "4 4 4 4 \n",
      "5 5 5 5 5\n"
     ]
    }
   ],
   "source": [
    "n = 1\n",
    "for i in range(5):\n",
    "    print((\" \".join([str(n)] * n)) + (\" \" * (5-n)))\n",
    "    n += 1"
   ]
  },
  {
   "cell_type": "markdown",
   "metadata": {},
   "source": [
    "Exercise 9: Check Palindrome Number\n",
    "\n",
    "Write a Python code to check if the given number is palindrome. A palindrome number is a number that is the same after reverse. For example, 545 is the palindrome number."
   ]
  },
  {
   "cell_type": "code",
   "execution_count": 11,
   "metadata": {},
   "outputs": [
    {
     "data": {
      "text/plain": [
       "'Yes. The given number is a palindrome'"
      ]
     },
     "execution_count": 11,
     "metadata": {},
     "output_type": "execute_result"
    }
   ],
   "source": [
    "def palindrome(string):\n",
    "    rev_strn = ''.join(reversed(string))\n",
    "\n",
    "    if string == rev_strn:\n",
    "        return \"Yes. The given number is a palindrome\"\n",
    "    else:\n",
    "        return \"No. The given number is not a palindrome\"\n",
    "\n",
    "nos = input(\"Enter your number: \")\n",
    "palindrome(nos)"
   ]
  },
  {
   "cell_type": "markdown",
   "metadata": {},
   "source": [
    "Exercise 10: Merge two lists using the following condition\n",
    "\n",
    "Given two lists of numbers, write a Python code to create a new list such that the latest list should contain odd numbers from the first list and even numbers from the second list."
   ]
  },
  {
   "cell_type": "code",
   "execution_count": 14,
   "metadata": {},
   "outputs": [
    {
     "name": "stdout",
     "output_type": "stream",
     "text": [
      "[25, 35, 40, 60, 90]\n"
     ]
    }
   ],
   "source": [
    "list1 = [10, 20, 25, 30, 35]\n",
    "list2 = [40, 45, 60, 75, 90]\n",
    "\n",
    "res_list = []\n",
    "\n",
    "for n in list1:\n",
    "    if n % 2 != 0:\n",
    "        res_list.append(n)\n",
    "for n in list2:\n",
    "    if n % 2 == 0:\n",
    "        res_list.append(n)\n",
    "\n",
    "print(res_list)"
   ]
  },
  {
   "cell_type": "markdown",
   "metadata": {},
   "source": [
    "Exercise 11: Get each digit from a number in the reverse order.\n",
    "\n",
    "For example, If the given integer number is 7536, the output shall be “6 3 5 7“, with a space separating the digits."
   ]
  },
  {
   "cell_type": "code",
   "execution_count": 17,
   "metadata": {},
   "outputs": [
    {
     "name": "stdout",
     "output_type": "stream",
     "text": [
      "number is: 45122. Rev number is: 2 2 1 5 4\n"
     ]
    }
   ],
   "source": [
    "def revOrd(x):\n",
    "    string_x = str(x)\n",
    "    rev = ' '.join(reversed(string_x))\n",
    "    return rev\n",
    "\n",
    "intX = input()\n",
    "print(f\"number is: {intX}. Rev number is: {revOrd(intX)}\")"
   ]
  },
  {
   "cell_type": "markdown",
   "metadata": {},
   "source": [
    "Exercise 12: Calculate income tax\n",
    "\n",
    "Calculate income tax for the given income by adhering to the rules below"
   ]
  },
  {
   "cell_type": "code",
   "execution_count": 18,
   "metadata": {},
   "outputs": [
    {
     "name": "stdout",
     "output_type": "stream",
     "text": [
      "6000.0\n"
     ]
    }
   ],
   "source": [
    "def incTax(income):\n",
    "    tax = 0\n",
    "    if income <= 10000:\n",
    "        tax = 0\n",
    "    elif income <= 20000:\n",
    "        x = income - 10000\n",
    "        tax = 0.1 * x\n",
    "    else:\n",
    "        tax = 0\n",
    "        tax = 0.1 * 10000\n",
    "        tax += (income - 20000) * 0.2\n",
    "    return tax\n",
    "\n",
    "income = 45000\n",
    "print(incTax(income))"
   ]
  },
  {
   "cell_type": "markdown",
   "metadata": {},
   "source": [
    "Exercise 13: Print multiplication table from 1 to 10"
   ]
  },
  {
   "cell_type": "code",
   "execution_count": 9,
   "metadata": {},
   "outputs": [
    {
     "name": "stdout",
     "output_type": "stream",
     "text": [
      "1, 2, 3, 4, 5, 6, 7, 8, 9, 10, \n",
      "2, 4, 6, 8, 10, 12, 14, 16, 18, 20, \n",
      "3, 6, 9, 12, 15, 18, 21, 24, 27, 30, \n",
      "4, 8, 12, 16, 20, 24, 28, 32, 36, 40, \n",
      "5, 10, 15, 20, 25, 30, 35, 40, 45, 50, \n",
      "6, 12, 18, 24, 30, 36, 42, 48, 54, 60, \n",
      "7, 14, 21, 28, 35, 42, 49, 56, 63, 70, \n",
      "8, 16, 24, 32, 40, 48, 56, 64, 72, 80, \n",
      "9, 18, 27, 36, 45, 54, 63, 72, 81, 90, \n",
      "10, 20, 30, 40, 50, 60, 70, 80, 90, 100, \n"
     ]
    }
   ],
   "source": [
    "for num1 in range(1,11):\n",
    "    for num2 in range(1,11):\n",
    "        product = num1 * num2\n",
    "        print(f\"{product}\", end = \", \")\n",
    "    print()"
   ]
  },
  {
   "cell_type": "markdown",
   "metadata": {},
   "source": [
    "Exercise 14: Print a downward half-pyramid pattern of stars"
   ]
  },
  {
   "cell_type": "code",
   "execution_count": 14,
   "metadata": {},
   "outputs": [
    {
     "name": "stdout",
     "output_type": "stream",
     "text": [
      "* * * * * \n",
      "* * * *  \n",
      "* * *   \n",
      "* *    \n",
      "*     \n"
     ]
    }
   ],
   "source": [
    "line = 5\n",
    "for i in range(5):\n",
    "    print((\"* \" * line) + (\" \" * i))\n",
    "    line -= 1"
   ]
  },
  {
   "cell_type": "markdown",
   "metadata": {},
   "source": [
    "Exercise 1: Accept numbers from a user\n",
    "\n",
    "Write a program to accept two numbers from the user and calculate multiplication"
   ]
  },
  {
   "cell_type": "code",
   "execution_count": 16,
   "metadata": {},
   "outputs": [],
   "source": [
    "num1 = int(input())\n",
    "num2 = int(input())"
   ]
  },
  {
   "cell_type": "markdown",
   "metadata": {},
   "source": [
    "Exercise 2: Display three string “Name”, “Is”, “James” as “Name ** Is ** James”"
   ]
  },
  {
   "cell_type": "code",
   "execution_count": 18,
   "metadata": {},
   "outputs": [
    {
     "name": "stdout",
     "output_type": "stream",
     "text": [
      "Name**Is**James\n"
     ]
    }
   ],
   "source": [
    "print(\"Name\", \"Is\", \"James\", sep = '**')"
   ]
  },
  {
   "cell_type": "markdown",
   "metadata": {},
   "source": [
    "Exercise 3: Convert Decimal number to octal using print() output formatting"
   ]
  },
  {
   "cell_type": "code",
   "execution_count": 22,
   "metadata": {},
   "outputs": [
    {
     "name": "stdout",
     "output_type": "stream",
     "text": [
      "10\n"
     ]
    }
   ],
   "source": [
    "num = 8\n",
    "print(f\"{num:o}\")"
   ]
  },
  {
   "cell_type": "markdown",
   "metadata": {},
   "source": [
    "Exercise 4: Display float number with 2 decimal places using print()"
   ]
  },
  {
   "cell_type": "code",
   "execution_count": 27,
   "metadata": {},
   "outputs": [
    {
     "name": "stdout",
     "output_type": "stream",
     "text": [
      "458.54\n"
     ]
    }
   ],
   "source": [
    "num = 458.541315\n",
    "print(f\"{num:.2f}\")"
   ]
  },
  {
   "cell_type": "markdown",
   "metadata": {},
   "source": [
    "Exercise 5: Accept a list of 5 float numbers as an input from the user"
   ]
  },
  {
   "cell_type": "code",
   "execution_count": 5,
   "metadata": {},
   "outputs": [
    {
     "name": "stdout",
     "output_type": "stream",
     "text": [
      "[78.6, 78.6, 85.3, 1.2, 3.5]\n"
     ]
    }
   ],
   "source": [
    "inp = input(\"Enter float numbers separated by space: \").split(\", \")\n",
    "float_list = list(map(float, inp))\n",
    "print(float_list)   "
   ]
  },
  {
   "cell_type": "code",
   "execution_count": null,
   "metadata": {},
   "outputs": [],
   "source": []
  }
 ],
 "metadata": {
  "kernelspec": {
   "display_name": "python",
   "language": "python",
   "name": "python3"
  },
  "language_info": {
   "codemirror_mode": {
    "name": "ipython",
    "version": 3
   },
   "file_extension": ".py",
   "mimetype": "text/x-python",
   "name": "python",
   "nbconvert_exporter": "python",
   "pygments_lexer": "ipython3",
   "version": "3.12.7"
  }
 },
 "nbformat": 4,
 "nbformat_minor": 2
}
