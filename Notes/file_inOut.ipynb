{
 "cells": [
  {
   "cell_type": "markdown",
   "metadata": {},
   "source": [
    "File I/O\n",
    "___"
   ]
  },
  {
   "cell_type": "markdown",
   "metadata": {},
   "source": [
    "1. Opening file and reading file"
   ]
  },
  {
   "cell_type": "code",
   "execution_count": 1,
   "metadata": {},
   "outputs": [],
   "source": [
    "f = open('/media/nannu/Briefcase/Python_wrkspc/LearningPY/even_lines.txt', 'r') #reading\n",
    "f = open('/media/nannu/Briefcase/Python_wrkspc/LearningPY/even_lines.txt', 'w') #writing\n",
    "f = open('/media/nannu/Briefcase/Python_wrkspc/LearningPY/even_lines.txt', 'a') #appending\n",
    "f = open('/media/nannu/Briefcase/Python_wrkspc/LearningPY/even_lines.txt', 'r+') #read and write"
   ]
  },
  {
   "cell_type": "markdown",
   "metadata": {},
   "source": [
    "Can add suffixes as mentioned above to select the opening mode."
   ]
  },
  {
   "cell_type": "markdown",
   "metadata": {},
   "source": [
    "Everytime u open using open command, u have to close in the end when required"
   ]
  },
  {
   "cell_type": "code",
   "execution_count": null,
   "metadata": {},
   "outputs": [],
   "source": [
    "f = open('/media/nannu/Briefcase/Python_wrkspc/LearningPY/even_lines.txt', 'r') #reading\n",
    "\n",
    "print(f.name)\n",
    "print(f.mode)\n",
    "\n",
    "f.close()"
   ]
  },
  {
   "cell_type": "markdown",
   "metadata": {},
   "source": [
    "Here, we have also mentioned f.mode to know which mode it is in."
   ]
  },
  {
   "cell_type": "markdown",
   "metadata": {},
   "source": [
    "1.1 Opening with context manager - to prevent manual closing of files and automatically close them."
   ]
  },
  {
   "cell_type": "code",
   "execution_count": 7,
   "metadata": {},
   "outputs": [],
   "source": [
    "with open('/media/nannu/Briefcase/Python_wrkspc/LearningPY/even_lines.txt', 'r') as f:\n",
    "    pass"
   ]
  },
  {
   "cell_type": "markdown",
   "metadata": {},
   "source": [
    "After coming out of the with command (like coming of out loops), the file is not accessible using the f variable."
   ]
  },
  {
   "cell_type": "code",
   "execution_count": null,
   "metadata": {},
   "outputs": [],
   "source": [
    "with open('/media/nannu/Briefcase/Python_wrkspc/LearningPY/even_lines.txt', 'r') as f:\n",
    "    pass\n",
    "print(f.closed)\n",
    "print(f.read())"
   ]
  },
  {
   "cell_type": "markdown",
   "metadata": {},
   "source": [
    "This proves that out of the manager, the file is closed. And any call back of the variable f where the file is stored will result in an error."
   ]
  },
  {
   "cell_type": "markdown",
   "metadata": {},
   "source": [
    "1.2 Reading the file contents\n",
    "\n",
    "They can be read using the f.read() command."
   ]
  },
  {
   "cell_type": "code",
   "execution_count": null,
   "metadata": {},
   "outputs": [],
   "source": [
    "with open('/media/nannu/Briefcase/Python_wrkspc/LearningPY/even_lines.txt', 'r') as f:\n",
    "    f_contents = f.read()\n",
    "    print(f_contents)"
   ]
  },
  {
   "cell_type": "markdown",
   "metadata": {},
   "source": [
    "But if a big file, and read only top few contents then:"
   ]
  },
  {
   "cell_type": "code",
   "execution_count": null,
   "metadata": {},
   "outputs": [],
   "source": [
    "with open('/media/nannu/Briefcase/Python_wrkspc/LearningPY/even_lines.txt', 'r') as f:\n",
    "    f_contents = f.readlines()\n",
    "    print(f_contents)"
   ]
  },
  {
   "cell_type": "markdown",
   "metadata": {},
   "source": [
    "This gives a list of every line of the file as a different element of the list."
   ]
  },
  {
   "cell_type": "markdown",
   "metadata": {},
   "source": [
    "Now, if we use f.readline, it gives the first line by default."
   ]
  },
  {
   "cell_type": "code",
   "execution_count": null,
   "metadata": {},
   "outputs": [],
   "source": [
    "with open('/media/nannu/Briefcase/Python_wrkspc/LearningPY/even_lines.txt', 'r') as f:\n",
    "    f_contents = f.readline()\n",
    "    print(f_contents)"
   ]
  },
  {
   "cell_type": "markdown",
   "metadata": {},
   "source": [
    "If u again repeat the readline command, the second line will be printed."
   ]
  },
  {
   "cell_type": "code",
   "execution_count": null,
   "metadata": {},
   "outputs": [],
   "source": [
    "with open('/media/nannu/Briefcase/Python_wrkspc/LearningPY/even_lines.txt', 'r') as f:\n",
    "    f_contents = f.readline()\n",
    "    print(f_contents)\n",
    "\n",
    "    f_contents = f.readline()\n",
    "    print(f_contents)\n",
    "\n",
    "    f_contents = f.readline()\n",
    "    print(f_contents)"
   ]
  },
  {
   "cell_type": "markdown",
   "metadata": {},
   "source": [
    "By default, each line is printed after an extra line. We can change that by passing something called end command in the print statement."
   ]
  },
  {
   "cell_type": "code",
   "execution_count": null,
   "metadata": {},
   "outputs": [],
   "source": [
    "with open('/media/nannu/Briefcase/Python_wrkspc/LearningPY/even_lines.txt', 'r') as f:\n",
    "    f_contents = f.readline()\n",
    "    print(f_contents, end = '')\n",
    "\n",
    "    f_contents = f.readline()\n",
    "    print(f_contents, end='')\n",
    "\n",
    "    f_contents = f.readline()\n",
    "    print(f_contents)"
   ]
  },
  {
   "cell_type": "markdown",
   "metadata": {},
   "source": [
    "Now, in this case, it reads the entire file all at once, which might create a memory load. So we can use for looping to solve the issue and iterate through each line one by one."
   ]
  },
  {
   "cell_type": "code",
   "execution_count": null,
   "metadata": {},
   "outputs": [],
   "source": [
    "with open('/media/nannu/Briefcase/Python_wrkspc/LearningPY/even_lines.txt', 'r') as f:\n",
    "\n",
    "    for line in f:\n",
    "        print(line, end='')"
   ]
  },
  {
   "cell_type": "markdown",
   "metadata": {},
   "source": [
    "This is good most of the time. But to get more control, we can add the number of characters to read in the f.read command"
   ]
  },
  {
   "cell_type": "code",
   "execution_count": null,
   "metadata": {},
   "outputs": [],
   "source": [
    "with open('/media/nannu/Briefcase/Python_wrkspc/LearningPY/even_lines.txt', 'r') as f:\n",
    "    f_contents = f.read(100)\n",
    "    print(f_contents, end='')\n",
    "\n",
    "    f_contents = f.read(100)\n",
    "    print(f_contents, end='')"
   ]
  },
  {
   "cell_type": "markdown",
   "metadata": {},
   "source": [
    "Thus to read the entire file character by character, we can loop"
   ]
  },
  {
   "cell_type": "code",
   "execution_count": null,
   "metadata": {},
   "outputs": [],
   "source": [
    "with open('/media/nannu/Briefcase/Python_wrkspc/LearningPY/even_lines.txt', 'r') as f:\n",
    "    \n",
    "    size_to_read = 10\n",
    "\n",
    "    f_contents = f.read(size_to_read)\n",
    "\n",
    "    while len(f_contents) > 0:\n",
    "        print(f_contents, end='*') #end statement ends each iteration with the string mentioned\n",
    "        f_contents = f.read(size_to_read)"
   ]
  },
  {
   "cell_type": "markdown",
   "metadata": {},
   "source": [
    "f.tell to see the position of each iteration."
   ]
  },
  {
   "cell_type": "code",
   "execution_count": null,
   "metadata": {},
   "outputs": [],
   "source": [
    "with open('/media/nannu/Briefcase/Python_wrkspc/LearningPY/even_lines.txt', 'r') as f:\n",
    "    \n",
    "    size_to_read = 10\n",
    "\n",
    "    f_contents = f.read(size_to_read)\n",
    "\n",
    "    print(f.tell())"
   ]
  },
  {
   "cell_type": "markdown",
   "metadata": {},
   "source": [
    "Consider:"
   ]
  },
  {
   "cell_type": "code",
   "execution_count": 14,
   "metadata": {},
   "outputs": [
    {
     "name": "stdout",
     "output_type": "stream",
     "text": [
      "Some things in life \n"
     ]
    }
   ],
   "source": [
    "with open('/media/nannu/Briefcase/Python_wrkspc/LearningPY/even_lines.txt', 'r') as f:\n",
    "    \n",
    "    size_to_read = 10\n",
    "\n",
    "    f_contents = f.read(size_to_read)\n",
    "    print(f_contents, end='')\n",
    "\n",
    "    f_contents = f.read(size_to_read)\n",
    "    print(f_contents)"
   ]
  },
  {
   "cell_type": "markdown",
   "metadata": {},
   "source": [
    "What if u want to start reading again from 1st character. We use f.seek(0)"
   ]
  },
  {
   "cell_type": "code",
   "execution_count": 15,
   "metadata": {},
   "outputs": [
    {
     "name": "stdout",
     "output_type": "stream",
     "text": [
      "Some thingSome thing\n"
     ]
    }
   ],
   "source": [
    "with open('/media/nannu/Briefcase/Python_wrkspc/LearningPY/even_lines.txt', 'r') as f:\n",
    "    \n",
    "    size_to_read = 10\n",
    "\n",
    "    f_contents = f.read(size_to_read)\n",
    "    print(f_contents, end='')\n",
    "\n",
    "    f.seek(0)\n",
    "\n",
    "    f_contents = f.read(size_to_read)\n",
    "    print(f_contents)"
   ]
  },
  {
   "cell_type": "markdown",
   "metadata": {},
   "source": [
    "___\n",
    "2. Writing files"
   ]
  },
  {
   "cell_type": "code",
   "execution_count": 7,
   "metadata": {},
   "outputs": [],
   "source": [
    "with open('/media/nannu/Briefcase/Python_wrkspc/LearningPY/even_lines2.txt', 'w') as f:\n",
    "    f.write(\"Test\")\n",
    "    f.seek(0)\n",
    "    f.write(\"R\")"
   ]
  },
  {
   "cell_type": "markdown",
   "metadata": {},
   "source": [
    "+ You can mention the file name. If its not there, a new one will be created or will be overwritten when same name used.\n",
    "\n",
    "+ To make it writable, mention the lowercase w in the command\n",
    "+ In the example, Rest is printed out due to seek changing the index from where it should print, in this case, the beginning."
   ]
  },
  {
   "cell_type": "markdown",
   "metadata": {},
   "source": [
    "___\n",
    "3. Reading and writing into new file.\n"
   ]
  },
  {
   "cell_type": "code",
   "execution_count": 8,
   "metadata": {},
   "outputs": [],
   "source": [
    "with open('/media/nannu/Briefcase/Python_wrkspc/LearningPY/even_lines.txt', 'r') as rf:\n",
    "    with open('/media/nannu/Briefcase/Python_wrkspc/LearningPY/even_lines2.txt', 'w') as wf:\n",
    "        for line in rf:\n",
    "            wf.write(line)"
   ]
  }
 ],
 "metadata": {
  "kernelspec": {
   "display_name": "PYLearn",
   "language": "python",
   "name": "python3"
  },
  "language_info": {
   "codemirror_mode": {
    "name": "ipython",
    "version": 3
   },
   "file_extension": ".py",
   "mimetype": "text/x-python",
   "name": "python",
   "nbconvert_exporter": "python",
   "pygments_lexer": "ipython3",
   "version": "3.12.7"
  }
 },
 "nbformat": 4,
 "nbformat_minor": 2
}
